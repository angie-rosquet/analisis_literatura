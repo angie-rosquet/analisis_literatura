{
 "cells": [
  {
   "cell_type": "markdown",
   "metadata": {},
   "source": [
    "## Análisis de elementos de obras literarias:"
   ]
  },
  {
   "cell_type": "markdown",
   "metadata": {},
   "source": [
    "### Autores que más Títulos sacaron al mercado en Amazon:"
   ]
  },
  {
   "cell_type": "code",
   "execution_count": 8,
   "metadata": {},
   "outputs": [
    {
     "name": "stdout",
     "output_type": "stream",
     "text": [
      "                Autores  Apariciones\n",
      "42         J.K. Rowling           26\n",
      "52         John Grisham           26\n",
      "69     Malcolm Gladwell           24\n",
      "95            Dr. Seuss           22\n",
      "128              Gallup           22\n",
      "83        J. K. Rowling           21\n",
      "35     Stephen R. Covey           21\n",
      "257        Gary Chapman           21\n",
      "390     Stephenie Meyer           20\n",
      "120        Stephen King           20\n",
      "59      Don Miguel Ruiz           19\n",
      "448        Rick Riordan           19\n",
      "455         Jeff Kinney           19\n",
      "804      Colleen Hoover           19\n",
      "139         Jim Collins           18\n",
      "223     Bill Martin Jr.           18\n",
      "478     Suzanne Collins           18\n",
      "55   Robert T. Kiyosaki           17\n",
      "206       Dale Carnegie           17\n",
      "203   The College Board           16\n"
     ]
    }
   ],
   "source": [
    "import pdfplumber\n",
    "import json\n",
    "import pandas as pd\n",
    "import os\n",
    "import own_lib as ol\n",
    "from sklearn.linear_model import LinearRegression\n",
    "import numpy as np\n",
    "\n",
    "route_1 = \"C:\\\\My Projects\\\\Databases\\\\Communication in Data Science Project\\\\amazonoficial1995-2024.json\"\n",
    "\n",
    "with open(route_1,\"r\",encoding = \"utf-8\") as amazon:\n",
    "    amazon_data = json.load(amazon)\n",
    "\n",
    "amazon_authors_counting = ol.author_appearings(amazon_data)\n",
    "print(amazon_authors_counting.head(20))"
   ]
  },
  {
   "cell_type": "markdown",
   "metadata": {},
   "source": [
    "### Conteo de nacionalidades en los premios Nobel de literatura en los últimos 30 años:"
   ]
  },
  {
   "cell_type": "code",
   "execution_count": 9,
   "metadata": {},
   "outputs": [
    {
     "name": "stdout",
     "output_type": "stream",
     "text": [
      "      Nacionalidad  Conteo\n",
      "8   United Kingdom       5\n",
      "6           France       4\n",
      "7            China       2\n",
      "2           Poland       2\n",
      "5          Germany       2\n",
      "21   United States       2\n",
      "12         Austria       2\n",
      "0            Japan       1\n",
      "4         Portugal       1\n",
      "3            Italy       1\n"
     ]
    }
   ],
   "source": [
    "route_3 = \"C:\\\\My Projects\\\\Databases\\\\Communication in Data Science Project\\\\nobel_literature_1994_2024.json\"\n",
    "\n",
    "with open(route_3,\"r\",encoding = \"utf-8\") as nobel:\n",
    "    nobel_data = json.load(nobel)\n",
    "\n",
    "amazon_nat_count = ol.nat_counting(nobel_data)\n",
    "print(amazon_nat_count.sort_values(by = \"Conteo\",ascending = False).head(10))"
   ]
  },
  {
   "cell_type": "markdown",
   "metadata": {},
   "source": [
    "### Análisis de los estilos literarios más repetidos en los notables de New York Times:"
   ]
  },
  {
   "cell_type": "code",
   "execution_count": 10,
   "metadata": {},
   "outputs": [
    {
     "name": "stdout",
     "output_type": "stream",
     "text": [
      "           Estilo  Conteo\n",
      "3         fiction     884\n",
      "14      Biography     329\n",
      "12        History     305\n",
      "16         Memoir     234\n",
      "5   Short stories     166\n"
     ]
    }
   ],
   "source": [
    "route_4 = \"C:\\\\My Projects\\\\Databases\\\\Communication in Data Science Project\\\\notable_books_nyt.json\"\n",
    "\n",
    "with open(route_4,\"r\",encoding = \"utf-8\") as nyt:\n",
    "    nyt_data = json.load(nyt)\n",
    "\n",
    "nyt_genders = ol.lit_styles(nyt_data)\n",
    "nyt_genders = nyt_genders[nyt_genders[\"Estilo\"] != \"nonfiction\"]\n",
    "print(nyt_genders.nlargest(5,columns = \"Conteo\"))"
   ]
  },
  {
   "cell_type": "markdown",
   "metadata": {},
   "source": [
    "### Contabilizar nacionalidad de ganadores de los premios Cervantes en los últimos 30 años:"
   ]
  },
  {
   "cell_type": "code",
   "execution_count": 11,
   "metadata": {},
   "outputs": [
    {
     "name": "stdout",
     "output_type": "stream",
     "text": [
      "  Nacionalidad  Conteo\n",
      "1       España      16\n",
      "5       México       4\n",
      "3        Chile       3\n",
      "8      Uruguay       2\n",
      "0         Perú       1\n",
      "2         Cuba       1\n",
      "4     Colombia       1\n",
      "6    Argentina       1\n",
      "7    Nicaragua       1\n",
      "9    Venezuela       1\n"
     ]
    }
   ],
   "source": [
    "route_5 = \"C:\\My Projects\\Databases\\Communication in Data Science Project\\premios_cervantes.json\"\n",
    "\n",
    "with open(route_5,\"r\",encoding = \"utf-8\") as cervantes:\n",
    "    cervantes_data = json.load(cervantes)\n",
    "\n",
    "cervantes_nat_count = ol.nat_counting(cervantes_data)\n",
    "print(cervantes_nat_count.sort_values(by = \"Conteo\",ascending = False).head(10))"
   ]
  },
  {
   "cell_type": "markdown",
   "metadata": {},
   "source": [
    "### Estudio de correlación y predictibilidad de características de la literatura:"
   ]
  },
  {
   "cell_type": "code",
   "execution_count": 12,
   "metadata": {},
   "outputs": [
    {
     "name": "stdout",
     "output_type": "stream",
     "text": [
      "                 Autores  Apariciones\n",
      "0    Peter C. V. Peachey            1\n",
      "1      John Allen Paulos            1\n",
      "2       William Finnegan            1\n",
      "3           David Siegel            2\n",
      "4             Tom Clancy            6\n",
      "..                   ...          ...\n",
      "908  Dr Travis Bradberry            1\n",
      "909          Geoff Woods            1\n",
      "910         Alex Hormozi            1\n",
      "911         Olivie Blake            1\n",
      "912         Tomi Adeyemi            1\n",
      "\n",
      "[913 rows x 2 columns]\n",
      "                 Autores  Estrellas promedio\n",
      "0    Peter C. V. Peachey                 NaN\n",
      "1      John Allen Paulos                 NaN\n",
      "2       William Finnegan                 NaN\n",
      "3           David Siegel                4.00\n",
      "4             Tom Clancy                4.45\n",
      "..                   ...                 ...\n",
      "908  Dr Travis Bradberry                4.50\n",
      "909          Geoff Woods                4.60\n",
      "910         Alex Hormozi                4.90\n",
      "911         Olivie Blake                4.30\n",
      "912         Tomi Adeyemi                4.70\n",
      "\n",
      "[913 rows x 2 columns]\n",
      "                 Autores  Cant. evaluaciones por autor\n",
      "0    Peter C. V. Peachey                           NaN\n",
      "1      John Allen Paulos                           NaN\n",
      "2       William Finnegan                           NaN\n",
      "3           David Siegel                          14.0\n",
      "4             Tom Clancy                        9515.0\n",
      "..                   ...                           ...\n",
      "908  Dr Travis Bradberry                       13827.0\n",
      "909          Geoff Woods                         204.0\n",
      "910         Alex Hormozi                       26147.0\n",
      "911         Olivie Blake                       89234.0\n",
      "912         Tomi Adeyemi                       12456.0\n",
      "\n",
      "[913 rows x 2 columns]\n",
      "                 Autores  Precios\n",
      "0    Peter C. V. Peachey      NaN\n",
      "1      John Allen Paulos      NaN\n",
      "2       William Finnegan      NaN\n",
      "3           David Siegel      NaN\n",
      "4             Tom Clancy     4.69\n",
      "..                   ...      ...\n",
      "908  Dr Travis Bradberry     1.41\n",
      "909          Geoff Woods      NaN\n",
      "910         Alex Hormozi    13.08\n",
      "911         Olivie Blake    12.99\n",
      "912         Tomi Adeyemi    14.99\n",
      "\n",
      "[913 rows x 2 columns]\n"
     ]
    },
    {
     "name": "stderr",
     "output_type": "stream",
     "text": [
      "c:\\Users\\HP\\AppData\\Local\\Programs\\Python\\Python311\\Lib\\site-packages\\numpy\\_core\\fromnumeric.py:3860: RuntimeWarning: Mean of empty slice.\n",
      "  return _methods._mean(a, axis=axis, dtype=dtype,\n",
      "c:\\Users\\HP\\AppData\\Local\\Programs\\Python\\Python311\\Lib\\site-packages\\numpy\\_core\\_methods.py:145: RuntimeWarning: invalid value encountered in scalar divide\n",
      "  ret = ret.dtype.type(ret / rcount)\n"
     ]
    }
   ],
   "source": [
    "# Estudiando si hay correlación entre la cantidad de publicaciones de los autores y su calificación media:\n",
    "authors_appearings = ol.amazon_authors(amazon_data)\n",
    "\n",
    "authors_list = []\n",
    "for author in authors_appearings[\"Autores\"]:\n",
    "    authors_list.append(author)\n",
    "\n",
    "medium_evaluations = ol.med_califications(authors_list,amazon_data)\n",
    "medium_eval_quantity = ol.med_eval_quantity(authors_list,amazon_data)\n",
    "medium_prices = ol.med_cost(authors_list,amazon_data)\n",
    "\n",
    "print(authors_appearings)\n",
    "print(medium_evaluations)\n",
    "print(medium_eval_quantity)\n",
    "print(medium_prices)"
   ]
  },
  {
   "cell_type": "code",
   "execution_count": 21,
   "metadata": {},
   "outputs": [
    {
     "name": "stdout",
     "output_type": "stream",
     "text": [
      "0       NaN\n",
      "1       NaN\n",
      "2       NaN\n",
      "3      4.00\n",
      "4      4.45\n",
      "       ... \n",
      "908    4.50\n",
      "909    4.60\n",
      "910    4.90\n",
      "911    4.30\n",
      "912    4.70\n",
      "Name: Estrellas promedio, Length: 913, dtype: float64\n"
     ]
    }
   ],
   "source": [
    "author_analysis_df = pd.concat([authors_appearings,medium_evaluations[\"Estrellas promedio\"],medium_eval_quantity[\"Cant. evaluaciones por autor\"],medium_prices[\"Precios\"]],axis = 1)\n",
    "print(author_analysis_df)"
   ]
  },
  {
   "cell_type": "markdown",
   "metadata": {},
   "source": [
    "Agregando una descripción del dataframe obtenido:"
   ]
  },
  {
   "cell_type": "code",
   "execution_count": 17,
   "metadata": {},
   "outputs": [
    {
     "name": "stdout",
     "output_type": "stream",
     "text": [
      "       Apariciones  Estrellas promedio  Cant. evaluaciones por autor  \\\n",
      "count   913.000000          896.000000                  9.400000e+01   \n",
      "mean      2.648412            4.539829                  1.259167e+05   \n",
      "std       3.448897            0.237762                  3.230295e+05   \n",
      "min       1.000000            1.200000                  2.000000e+00   \n",
      "25%       1.000000            4.400000                  1.287250e+03   \n",
      "50%       1.000000            4.600000                  1.044700e+04   \n",
      "75%       3.000000            4.700000                  6.245912e+04   \n",
      "max      26.000000            5.000000                  1.908770e+06   \n",
      "\n",
      "          Precios  \n",
      "count  853.000000  \n",
      "mean    12.331506  \n",
      "std      9.412187  \n",
      "min      0.250000  \n",
      "25%      8.130000  \n",
      "50%     10.790000  \n",
      "75%     14.690000  \n",
      "max    159.990000  \n"
     ]
    }
   ],
   "source": [
    "print(author_analysis_df.describe())"
   ]
  },
  {
   "cell_type": "markdown",
   "metadata": {},
   "source": [
    "Analizando si existe correlación lineal entre las variables de interes:"
   ]
  },
  {
   "cell_type": "code",
   "execution_count": 23,
   "metadata": {},
   "outputs": [
    {
     "name": "stdout",
     "output_type": "stream",
     "text": [
      "     Cant. evaluaciones por autor  Estrellas promedio\n",
      "3                            14.0                4.00\n",
      "4                          9515.0                4.45\n",
      "5                           273.5                4.50\n",
      "6                          1779.5                4.40\n",
      "7                          4176.0                4.20\n",
      "..                            ...                 ...\n",
      "908                       13827.0                4.50\n",
      "909                         204.0                4.60\n",
      "910                       26147.0                4.90\n",
      "911                       89234.0                4.30\n",
      "912                       12456.0                4.70\n",
      "\n",
      "[84 rows x 2 columns]\n",
      "0.1252725895555476\n",
      "0.08059255429602614\n",
      "0.06351286816708347\n",
      "-0.02911729919735173\n"
     ]
    }
   ],
   "source": [
    "est_prom_quant_eval = pd.concat([author_analysis_df[\"Cant. evaluaciones por autor\"],author_analysis_df[\"Estrellas promedio\"]],axis = 1).dropna()\n",
    "\n",
    "print(author_analysis_df[\"Apariciones\"].corr(author_analysis_df[\"Estrellas promedio\"].dropna(),method = \"pearson\"))\n",
    "print(author_analysis_df[\"Apariciones\"].corr(author_analysis_df[\"Cant. evaluaciones por autor\"].dropna(),method = \"pearson\"))\n",
    "print(est_prom_quant_eval[\"Estrellas promedio\"].corr(est_prom_quant_eval[\"Cant. evaluaciones por autor\"],method = \"pearson\"))\n",
    "print(author_analysis_df[\"Apariciones\"].corr(author_analysis_df[\"Precios\"].dropna(),method = \"pearson\"))"
   ]
  },
  {
   "cell_type": "markdown",
   "metadata": {},
   "source": [
    "Aquí se ve que no hay una relación lineal entre ninguno de los pares de variables en absoluto."
   ]
  },
  {
   "cell_type": "markdown",
   "metadata": {},
   "source": [
    "Analizando existencia de una relación de monotonía:"
   ]
  },
  {
   "cell_type": "code",
   "execution_count": 27,
   "metadata": {},
   "outputs": [
    {
     "name": "stdout",
     "output_type": "stream",
     "text": [
      "0.1401239541434368\n",
      "0.424660491934831\n",
      "0.2607683081196691\n",
      "-0.11522696393673292\n"
     ]
    }
   ],
   "source": [
    "print(author_analysis_df[\"Apariciones\"].corr(author_analysis_df[\"Estrellas promedio\"],method = \"spearman\"))\n",
    "print(author_analysis_df[\"Apariciones\"].corr(author_analysis_df[\"Cant. evaluaciones por autor\"],method = \"spearman\"))\n",
    "print(est_prom_quant_eval[\"Estrellas promedio\"].corr(est_prom_quant_eval[\"Cant. evaluaciones por autor\"],method = \"spearman\"))\n",
    "print(author_analysis_df[\"Apariciones\"].corr(author_analysis_df[\"Precios\"],method = \"spearman\"))"
   ]
  },
  {
   "cell_type": "markdown",
   "metadata": {},
   "source": [
    "Puede ser que el número de publicaciones y la cantidad de evaluaciones tengan correlación monotónica positiva."
   ]
  }
 ],
 "metadata": {
  "kernelspec": {
   "display_name": "Python 3",
   "language": "python",
   "name": "python3"
  },
  "language_info": {
   "codemirror_mode": {
    "name": "ipython",
    "version": 3
   },
   "file_extension": ".py",
   "mimetype": "text/x-python",
   "name": "python",
   "nbconvert_exporter": "python",
   "pygments_lexer": "ipython3",
   "version": "3.11.7"
  }
 },
 "nbformat": 4,
 "nbformat_minor": 2
}
