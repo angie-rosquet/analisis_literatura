{
 "cells": [
  {
   "cell_type": "markdown",
   "id": "1481b331",
   "metadata": {},
   "source": [
    "Esto es como si fuese la biblioteca empleada para el video, pero el objetivo es visualizar aqui los graficos e ir redactando el guion "
   ]
  }
 ],
 "metadata": {
  "language_info": {
   "name": "python"
  }
 },
 "nbformat": 4,
 "nbformat_minor": 5
}
