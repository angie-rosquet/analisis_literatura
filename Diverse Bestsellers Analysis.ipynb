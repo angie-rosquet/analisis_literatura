{
 "cells": [
  {
   "cell_type": "markdown",
   "metadata": {},
   "source": [
    "## Análisis de elementos de obras literarias:"
   ]
  },
  {
   "cell_type": "code",
   "execution_count": 1,
   "metadata": {},
   "outputs": [],
   "source": [
    "import own_library_st as olst\n",
    "import plotly.express as px\n",
    "import pandas as pd"
   ]
  },
  {
   "cell_type": "markdown",
   "metadata": {},
   "source": [
    "# Guion  \n",
    "\n",
    "1 - Comienza la presentacion del video  \n",
    "2 - Pongo imagenes de los libros y la voz en off dice:  \n",
    "        _\"¿Alguna vez te has preguntado qué hace que un libro se convierta en bestseller? ¿Es la calidad, el marketing... o algo más? Hoy revelaremos los datos ocultos detrás del fenómeno editorial más fascinante.\"_    \n",
    "3 - Pongo grafico de barras con los autores mas vendidos:\n",
    "\n",
    "\n",
    "\n",
    "Impresionante: estos cinco nombres han dominado las listas por tres décadas. Pero aquí está el dato que cambiará tu perspectiva: en los últimos 30 años, ¡3,128 autores diferentes han logrado entrar en los rankings de bestsellers!\n",
    "\n",
    "¿La sorpresa? Estos cinco gigantes no representan ni el 0.02% del total de autores... pero concentran el 3% de todas las apariciones. Es decir, cada uno tiene un 0.6% de participación individual en las listas.\n",
    "\n",
    "Para que lo entiendas mejor: si el mercado fuera justo, cada autor tendría solo un 0.03% de representación. ¡Estos cinco tienen 20 veces más poder que el promedio!   \n",
    "\n",
    "4 - El primer libro de Harry Potter se publicó en 1997... y aunque fue un éxito en Reino Unido, su impacto fue local. La magia realmente explotó en 1999, cuando Scholastic lo lanzó en Estados Unidos. ¿Por qué? Tres razones clave:\n",
    "\n",
    "EE.UU. tiene 5x más población que Reino Unido y un mercado editorial 3 veces más grande.\n",
    "\n",
    "es una historia para niños que resonó en adultos. No solo se leía... se vivía. Comunidades de fans, teorías online y el bum del cine.\"  \n",
    "\n",
    "\"Cada película aumentó las ventas de los libros un 300%. El estreno de La Piedra Filosofal (2001) colocó 3 libros de Rowling simultáneamente en el top 5 del NY Times... ¡algo nunca antes visto!\"  \n",
    "\n",
    "\"Harry Potter no fue solo suerte. Fue la tormenta perfecta: timing (era pre-redes sociales), una historia transversal... y un mercado globalizado que lo catapultó de éxito local a icono mundial, revoluciono el genero infantil como expresaron en The Guardian. Hoy, replicar esto es casi imposible."
   ]
  },
  {
   "cell_type": "code",
   "execution_count": 2,
   "metadata": {},
   "outputs": [
    {
     "name": "stdout",
     "output_type": "stream",
     "text": [
      "Entre 3128 bestsellers\n",
      "Los 5 autores principales representan el 3.0% de todas las apariciones en listas de bestsellers\n",
      "0        j.k. rowling\n",
      "1        john grisham\n",
      "2        stephen king\n",
      "3    malcolm gladwell\n",
      "4           dr. seuss\n",
      "Name: autor, dtype: object\n"
     ]
    }
   ],
   "source": [
    "a = olst.count_all\n",
    "total_authors = len(a[\"autor\"].unique())\n",
    "total_apariciones = a['count'].sum()\n",
    "top5_apariciones = a['count'].head(5).sum()\n",
    "porcentaje_top5 = (top5_apariciones / total_apariciones) * 100\n",
    "print(f\"Entre {total_authors} bestsellers\")\n",
    "print(f\"Los 5 autores principales representan el {porcentaje_top5:.1f}% de todas las apariciones en listas de bestsellers\")\n",
    "print(a['autor'].head(5))"
   ]
  },
  {
   "cell_type": "code",
   "execution_count": 6,
   "metadata": {},
   "outputs": [
    {
     "name": "stdout",
     "output_type": "stream",
     "text": [
      "     año  Conteo\n",
      "0   1999       6\n",
      "1   2000       6\n",
      "2   2001       9\n",
      "3   2002       1\n",
      "4   2003       4\n",
      "5   2004       2\n",
      "6   2005       4\n",
      "7   2007       4\n",
      "8   2008       2\n",
      "9   2012       1\n",
      "10  2016       6\n",
      "11  2018       1\n",
      "12  2019       1\n",
      "13  2021       1\n",
      "14  2022       2\n",
      "15  2023       1\n"
     ]
    }
   ],
   "source": [
    "def filtrar_por_autor(df, nombre_autor):\n",
    "    return df[df['autor'].str.contains(nombre_autor, case=False, na=False)]\n",
    "\n",
    "def contar_bestsellers_por_año(df_autor):\n",
    "    if 'año' not in df_autor.columns:\n",
    "        raise ValueError(\"El DataFrame debe contener una columna 'Año'\")\n",
    "    conteo = df_autor.groupby('año').size().reset_index(name='Conteo')\n",
    "    return conteo.sort_values('año')\n",
    "\n",
    "\n",
    "df_rowling = filtrar_por_autor(olst.df_all_bs, \"j.k. rowling\")\n",
    "\n",
    "conteo_anual = contar_bestsellers_por_año(df_rowling)\n",
    "\n",
    "print(conteo_anual)"
   ]
  },
  {
   "cell_type": "markdown",
   "metadata": {},
   "source": []
  },
  {
   "cell_type": "markdown",
   "metadata": {},
   "source": []
  },
  {
   "cell_type": "markdown",
   "metadata": {},
   "source": []
  },
  {
   "cell_type": "markdown",
   "metadata": {},
   "source": []
  },
  {
   "cell_type": "markdown",
   "metadata": {},
   "source": []
  },
  {
   "cell_type": "markdown",
   "metadata": {},
   "source": []
  },
  {
   "cell_type": "markdown",
   "metadata": {},
   "source": []
  }
 ],
 "metadata": {
  "kernelspec": {
   "display_name": "Python 3",
   "language": "python",
   "name": "python3"
  },
  "language_info": {
   "codemirror_mode": {
    "name": "ipython",
    "version": 3
   },
   "file_extension": ".py",
   "mimetype": "text/x-python",
   "name": "python",
   "nbconvert_exporter": "python",
   "pygments_lexer": "ipython3",
   "version": "3.11.9"
  }
 },
 "nbformat": 4,
 "nbformat_minor": 2
}
